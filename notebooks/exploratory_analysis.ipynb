## Ejemplo extraído de ChatGPT

# Cargar bibliotecas
import pandas as pd
import matplotlib.pyplot as plt
import seaborn as sns

# Cargar los datos
data = pd.read_csv('path_to_dataset.csv')

# Resumen estadístico
print(data.describe())

# Visualizar datos faltantes
sns.heatmap(data.isnull(), cbar=False, cmap='viridis')

# Histograma de variables clave
data['variable_interes'].hist(bins=20)
plt.title('Distribución de Variable de Interés')
plt.xlabel('Variable de Interés')
plt.ylabel('Frecuencia')
plt.show()

# Matriz de correlación
sns.heatmap(data.corr(), annot=True, cmap='coolwarm')
plt.title('Matriz de Correlación')
plt.show()
