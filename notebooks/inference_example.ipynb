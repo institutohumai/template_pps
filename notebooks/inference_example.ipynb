## Ejemplo extraído de ChatGPT

# Cargar bibliotecas
import pandas as pd
import joblib

# Cargar modelo entrenado
model = joblib.load('path_to_trained_model.pkl')

# Nuevos datos para predicción
new_data = pd.DataFrame({
    'feature_1': [5.1],
    'feature_2': [3.5],
    'feature_3': [1.4],
    'feature_4': [0.2]
})

# Realizar predicciones
prediction = model.predict(new_data)
print("Predicción:", prediction)

# Probabilidades de predicción
proba = model.predict_proba(new_data)
print("Probabilidades de predicción:", proba)
